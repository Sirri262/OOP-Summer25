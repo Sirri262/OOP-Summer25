{
 "cells": [
  {
   "cell_type": "markdown",
   "id": "bdfeb5ca",
   "metadata": {},
   "source": [
    "# 1 on 1"
   ]
  }
 ],
 "metadata": {
  "language_info": {
   "name": "python"
  }
 },
 "nbformat": 4,
 "nbformat_minor": 5
}
