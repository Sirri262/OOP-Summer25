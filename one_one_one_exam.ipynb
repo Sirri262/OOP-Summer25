{
 "cells": [
  {
   "cell_type": "code",
   "execution_count": 26,
   "id": "6cf93011",
   "metadata": {},
   "outputs": [
    {
     "name": "stdout",
     "output_type": "stream",
     "text": [
      "{'first_name': 'Sirri', 'last_name': 'Cataloglu', 'index_number': 34854}\n"
     ]
    }
   ],
   "source": [
    "student1 = {\n",
    "  'first_name' : \"Sirri\",\n",
    "  'last_name' : \"Cataloglu\",\n",
    "  'index_number' : 34854,\n",
    "}\n",
    "print(student1)\n"
   ]
  },
  {
   "cell_type": "code",
   "execution_count": 27,
   "id": "6295104b",
   "metadata": {},
   "outputs": [
    {
     "name": "stdout",
     "output_type": "stream",
     "text": [
      "banana\n",
      "watermelon\n",
      "lemon\n"
     ]
    }
   ],
   "source": [
    "thelist= [\"banana\",\"watermelon\",\"lemon\"]\n",
    "for x in thelist:\n",
    "    print(x)"
   ]
  },
  {
   "cell_type": "code",
   "execution_count": 36,
   "id": "f3620380",
   "metadata": {},
   "outputs": [
    {
     "name": "stdout",
     "output_type": "stream",
     "text": [
      "berke haliloglu 35274\n",
      "sirri cataloglu 34854\n",
      "sandu nurbolat 35176\n"
     ]
    }
   ],
   "source": [
    "class People:\n",
    "    def __init__(self,name,surname,student_id):\n",
    "        self.name = name\n",
    "        self.surname = surname\n",
    "        self.student_id = student_id\n",
    "        \n",
    "student1= People(\"berke\",\"haliloglu\",\"35274\")\n",
    "student2= People(\"sirri\",\"cataloglu\",\"34854\")\n",
    "student3= People(\"sandu\",\"nurbolat\",\"35176\")   \n",
    "\n",
    "print(student1.name , student1.surname , student1.student_id)\n",
    "print(student2.name , student2.surname , student2.student_id)\n",
    "print(student3.name , student3.surname , student3.student_id)"
   ]
  },
  {
   "cell_type": "code",
   "execution_count": 29,
   "id": "aaab69b7",
   "metadata": {},
   "outputs": [
    {
     "name": "stdout",
     "output_type": "stream",
     "text": [
      "<class 'float'>\n"
     ]
    }
   ],
   "source": [
    "weight= 78.5\n",
    "print(type(weight))"
   ]
  },
  {
   "cell_type": "code",
   "execution_count": 30,
   "id": "8540e52a",
   "metadata": {},
   "outputs": [
    {
     "name": "stdout",
     "output_type": "stream",
     "text": [
      "20\n"
     ]
    }
   ],
   "source": [
    "age= 20\n",
    "print(age)"
   ]
  },
  {
   "cell_type": "code",
   "execution_count": 31,
   "id": "763c6377",
   "metadata": {},
   "outputs": [
    {
     "name": "stdout",
     "output_type": "stream",
     "text": [
      "Sirri\n"
     ]
    }
   ],
   "source": [
    "name= \"Sirri\"\n",
    "print(name)\n"
   ]
  },
  {
   "cell_type": "markdown",
   "id": "bdfeb5ca",
   "metadata": {},
   "source": [
    "# 1 on 1"
   ]
  }
 ],
 "metadata": {
  "kernelspec": {
   "display_name": "Python 3",
   "language": "python",
   "name": "python3"
  },
  "language_info": {
   "codemirror_mode": {
    "name": "ipython",
    "version": 3
   },
   "file_extension": ".py",
   "mimetype": "text/x-python",
   "name": "python",
   "nbconvert_exporter": "python",
   "pygments_lexer": "ipython3",
   "version": "3.12.1"
  }
 },
 "nbformat": 4,
 "nbformat_minor": 5
}
