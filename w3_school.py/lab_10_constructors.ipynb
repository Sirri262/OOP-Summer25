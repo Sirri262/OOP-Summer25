{
 "cells": [
  {
   "cell_type": "code",
   "execution_count": 3,
   "id": "7fb7d2e1",
   "metadata": {},
   "outputs": [
    {
     "name": "stdout",
     "output_type": "stream",
     "text": [
      "An animal has been created\n",
      "An animal has been created\n",
      "An animal has been created\n"
     ]
    }
   ],
   "source": [
    "class Animal:\n",
    "    def __init__(self):\n",
    "        print(\"An animal has been created\")\n",
    "\n",
    "animal1 = Animal()\n",
    "animal2 = Animal()\n",
    "animal3 = Animal()"
   ]
  },
  {
   "cell_type": "code",
   "execution_count": 6,
   "id": "77373295",
   "metadata": {},
   "outputs": [],
   "source": [
    "class Car:\n",
    "    def __init__(self, brand, model):\n",
    "        self.brand = brand\n",
    "        self.model = model\n",
    "\n",
    "car1= Car(\"BMW\",\"420i\")\n",
    "car2= Car(\"Mercedes\",\"G63\")\n",
    "car3= Car(\"Porsche\",\"911\")"
   ]
  },
  {
   "cell_type": "code",
   "execution_count": null,
   "id": "c8c49617",
   "metadata": {},
   "outputs": [],
   "source": [
    "class House:\n",
    "    def __init__(self,location,floors,furnitures):\n",
    "        self.location = location\n",
    "        self.floors = floors\n",
    "        self.furnitures = furnitures\n",
    "h1 = House({\"Country\": \"Turkey\",\n",
    "            \"City\": \"İzmit\",\n",
    "            \"Street\": \"Bagcesme\"},2,\"Pc,TV,Table”)\n",
    "h2 = House({\"Country\": \"Poland\",\n",
    "            \"City\": \"Warsaw\",\n",
    "            \"Street\": \"Olszowa\"},8,\"Light,Carpet\")"
   ]
  }
 ],
 "metadata": {
  "kernelspec": {
   "display_name": "Python 3",
   "language": "python",
   "name": "python3"
  },
  "language_info": {
   "codemirror_mode": {
    "name": "ipython",
    "version": 3
   },
   "file_extension": ".py",
   "mimetype": "text/x-python",
   "name": "python",
   "nbconvert_exporter": "python",
   "pygments_lexer": "ipython3",
   "version": "3.12.1"
  }
 },
 "nbformat": 4,
 "nbformat_minor": 5
}
